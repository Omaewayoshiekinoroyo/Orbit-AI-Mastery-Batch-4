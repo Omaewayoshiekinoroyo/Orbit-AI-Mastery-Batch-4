{
  "nbformat": 4,
  "nbformat_minor": 0,
  "metadata": {
    "colab": {
      "provenance": []
    },
    "kernelspec": {
      "name": "python3",
      "display_name": "Python 3"
    },
    "language_info": {
      "name": "python"
    }
  },
  "cells": [
    {
      "cell_type": "markdown",
      "source": [
        "**Contoh Deloyment untuk Domain Data Science (DS)**\n",
        "\n",
        "Orbit Future Academy - AI Mastery - KM Batch 4 <br>\n",
        "Tim Deployment <br>\n",
        "2023 <br>\n",
        "\n",
        "<img src=\"http://orbitfutureacademy.id/wp-content/uploads/2020/02/dark_logo.png\" alt=\"Logo Orbit\" width=\"100\" height=\"30\">\n"
      ],
      "metadata": {
        "id": "iord4tfWrKCw"
      }
    },
    {
      "cell_type": "code",
      "source": [
        "# pastikan versi scikit-learn == 1.2.2\n",
        "# jika tidak sesuai, install versi scikit-learn yang sesuai\n",
        "!pip show scikit-learn"
      ],
      "metadata": {
        "colab": {
          "base_uri": "https://localhost:8080/"
        },
        "id": "sL8UHhL00Os5",
        "outputId": "51414d45-b73c-4213-b1d5-eb0460162d77"
      },
      "execution_count": null,
      "outputs": [
        {
          "output_type": "stream",
          "name": "stdout",
          "text": [
            "Name: scikit-learn\n",
            "Version: 1.2.2\n",
            "Summary: A set of python modules for machine learning and data mining\n",
            "Home-page: http://scikit-learn.org\n",
            "Author: \n",
            "Author-email: \n",
            "License: new BSD\n",
            "Location: /usr/local/lib/python3.10/dist-packages\n",
            "Requires: joblib, numpy, scipy, threadpoolctl\n",
            "Required-by: fastai, imbalanced-learn, librosa, lightgbm, mlxtend, qudida, sklearn-pandas, yellowbrick\n"
          ]
        }
      ]
    },
    {
      "cell_type": "code",
      "execution_count": null,
      "metadata": {
        "colab": {
          "base_uri": "https://localhost:8080/"
        },
        "id": "oKOPuoSNqpQ6",
        "outputId": "9dae1cad-cbf4-4928-8ff7-9a08300da5db"
      },
      "outputs": [
        {
          "output_type": "stream",
          "name": "stdout",
          "text": [
            "Completed!\n"
          ]
        }
      ],
      "source": [
        "# Melakukan Instalasi Packages yang Dibutuhkan\n",
        "!pip install flask --quiet\n",
        "!pip install flask-ngrok --quiet\n",
        "print(\"Completed!\")"
      ]
    },
    {
      "cell_type": "code",
      "source": [
        "# Download \"ngrox\" \n",
        "!wget https://bin.equinox.io/c/4VmDzA7iaHb/ngrok-stable-linux-amd64.tgz\n",
        "!tar -xvf /content/ngrok-stable-linux-amd64.tgz "
      ],
      "metadata": {
        "colab": {
          "base_uri": "https://localhost:8080/"
        },
        "id": "Tgh7OgSOsPia",
        "outputId": "5fb15f19-b9d2-4dc8-8e82-4c79fc35f411"
      },
      "execution_count": null,
      "outputs": [
        {
          "output_type": "stream",
          "name": "stdout",
          "text": [
            "--2023-05-12 02:26:31--  https://bin.equinox.io/c/4VmDzA7iaHb/ngrok-stable-linux-amd64.tgz\n",
            "Resolving bin.equinox.io (bin.equinox.io)... 52.202.168.65, 54.237.133.81, 18.205.222.128, ...\n",
            "Connecting to bin.equinox.io (bin.equinox.io)|52.202.168.65|:443... connected.\n",
            "HTTP request sent, awaiting response... 200 OK\n",
            "Length: 13856790 (13M) [application/octet-stream]\n",
            "Saving to: ‘ngrok-stable-linux-amd64.tgz’\n",
            "\n",
            "ngrok-stable-linux- 100%[===================>]  13.21M  --.-KB/s    in 0.07s   \n",
            "\n",
            "2023-05-12 02:26:31 (198 MB/s) - ‘ngrok-stable-linux-amd64.tgz’ saved [13856790/13856790]\n",
            "\n",
            "ngrok\n"
          ]
        }
      ]
    },
    {
      "cell_type": "code",
      "source": [
        "# Setting Token\n",
        "!./ngrok authtoken 2Pd0nr5yPQLcwDNZF08TBNVes0S_2dEUiL6cmuv5gSqjQt3PT # diganti dengan token Anda !"
      ],
      "metadata": {
        "colab": {
          "base_uri": "https://localhost:8080/"
        },
        "id": "dB467gFqseLS",
        "outputId": "70febd42-950d-404c-dbeb-2854cdc529f1"
      },
      "execution_count": null,
      "outputs": [
        {
          "output_type": "stream",
          "name": "stdout",
          "text": [
            "Authtoken saved to configuration file: /root/.ngrok2/ngrok.yml\n"
          ]
        }
      ]
    },
    {
      "cell_type": "code",
      "source": [
        "# Clone Repository dari Github\n",
        "!git clone https://github.com/ookaaa/uj-pr-ds"
      ],
      "metadata": {
        "colab": {
          "base_uri": "https://localhost:8080/"
        },
        "id": "cWfXavqOsks6",
        "outputId": "af7333e2-c005-4b98-afd5-de0233c99615"
      },
      "execution_count": null,
      "outputs": [
        {
          "output_type": "stream",
          "name": "stdout",
          "text": [
            "Cloning into 'uj-pr-ds'...\n",
            "remote: Enumerating objects: 62, done.\u001b[K\n",
            "remote: Counting objects: 100% (62/62), done.\u001b[K\n",
            "remote: Compressing objects: 100% (56/56), done.\u001b[K\n",
            "remote: Total 62 (delta 16), reused 0 (delta 0), pack-reused 0\u001b[K\n",
            "Unpacking objects: 100% (62/62), 572.07 KiB | 13.00 MiB/s, done.\n"
          ]
        }
      ]
    },
    {
      "cell_type": "code",
      "source": [
        "cd /content/uj-pr-ds/"
      ],
      "metadata": {
        "colab": {
          "base_uri": "https://localhost:8080/"
        },
        "id": "iGZja4JQ0w4h",
        "outputId": "13bf1cdd-77d0-40a9-e6a2-d13b873db0cf"
      },
      "execution_count": null,
      "outputs": [
        {
          "output_type": "stream",
          "name": "stdout",
          "text": [
            "/content/uj-pr-ds\n"
          ]
        }
      ]
    },
    {
      "cell_type": "code",
      "source": [
        "# Jalankan Aplikasi (Kode Python \"app.py\")\n",
        "!python3 app.py"
      ],
      "metadata": {
        "colab": {
          "base_uri": "https://localhost:8080/"
        },
        "id": "tjsHsYXjs0x2",
        "outputId": "b8c7e5b2-7926-4b5e-b4ab-4884221b5b20"
      },
      "execution_count": null,
      "outputs": [
        {
          "output_type": "stream",
          "name": "stdout",
          "text": [
            "/usr/local/lib/python3.10/dist-packages/sklearn/base.py:318: UserWarning: Trying to unpickle estimator DecisionTreeClassifier from version 0.24.1 when using version 1.2.2. This might lead to breaking code or invalid results. Use at your own risk. For more info please refer to:\n",
            "https://scikit-learn.org/stable/model_persistence.html#security-maintainability-limitations\n",
            "  warnings.warn(\n",
            " * Serving Flask app 'app'\n",
            " * Debug mode: off\n",
            "\u001b[31m\u001b[1mWARNING: This is a development server. Do not use it in a production deployment. Use a production WSGI server instead.\u001b[0m\n",
            " * Running on http://127.0.0.1:5000\n",
            "\u001b[33mPress CTRL+C to quit\u001b[0m\n",
            " * Running on http://c0a3-35-245-75-4.ngrok-free.app\n",
            " * Traffic stats available on http://127.0.0.1:4040\n",
            "127.0.0.1 - - [12/May/2023 02:37:43] \"GET / HTTP/1.1\" 200 -\n",
            "127.0.0.1 - - [12/May/2023 02:37:44] \"\u001b[32mGET /static//js/jquery_3.6.0.min.js HTTP/1.1\u001b[0m\" 308 -\n",
            "127.0.0.1 - - [12/May/2023 02:37:44] \"\u001b[32mGET /static//css/client_side.css HTTP/1.1\u001b[0m\" 308 -\n",
            "127.0.0.1 - - [12/May/2023 02:37:44] \"\u001b[32mGET /static//css/bootstrap.min.css HTTP/1.1\u001b[0m\" 308 -\n",
            "127.0.0.1 - - [12/May/2023 02:37:44] \"GET /static/css/bootstrap.min.css HTTP/1.1\" 200 -\n",
            "127.0.0.1 - - [12/May/2023 02:37:44] \"GET /static/js/jquery_3.6.0.min.js HTTP/1.1\" 200 -\n",
            "127.0.0.1 - - [12/May/2023 02:37:44] \"GET /static/css/client_side.css HTTP/1.1\" 200 -\n",
            "127.0.0.1 - - [12/May/2023 02:37:46] \"\u001b[32mGET /static//js/bootstrap_3.4.1.min.js HTTP/1.1\u001b[0m\" 308 -\n",
            "127.0.0.1 - - [12/May/2023 02:37:46] \"GET /static/js/bootstrap_3.4.1.min.js HTTP/1.1\" 200 -\n",
            "127.0.0.1 - - [12/May/2023 02:37:47] \"\u001b[32mGET /static//images/orbit_logo.jpg HTTP/1.1\u001b[0m\" 308 -\n",
            "127.0.0.1 - - [12/May/2023 02:37:47] \"\u001b[32mGET /static//images/app-display.JPG HTTP/1.1\u001b[0m\" 308 -\n",
            "127.0.0.1 - - [12/May/2023 02:37:47] \"\u001b[32mGET /static//images/maulidya.jpeg HTTP/1.1\u001b[0m\" 308 -\n",
            "127.0.0.1 - - [12/May/2023 02:37:47] \"\u001b[32mGET /static//images/oka.jpeg HTTP/1.1\u001b[0m\" 308 -\n",
            "127.0.0.1 - - [12/May/2023 02:37:47] \"\u001b[32mGET /static//images/angga.jpeg HTTP/1.1\u001b[0m\" 308 -\n",
            "127.0.0.1 - - [12/May/2023 02:37:47] \"\u001b[32mGET /static//images/orin.jpeg HTTP/1.1\u001b[0m\" 308 -\n",
            "127.0.0.1 - - [12/May/2023 02:37:47] \"\u001b[32mGET /static//js/client_side.js HTTP/1.1\u001b[0m\" 308 -\n",
            "127.0.0.1 - - [12/May/2023 02:37:47] \"GET /static/fonts/lato_latin.woff2 HTTP/1.1\" 200 -\n",
            "127.0.0.1 - - [12/May/2023 02:37:47] \"\u001b[33mGET /fonts/glyphicons-halflings-regular.woff2 HTTP/1.1\u001b[0m\" 404 -\n",
            "127.0.0.1 - - [12/May/2023 02:37:48] \"GET /static/images/orbit_logo.jpg HTTP/1.1\" 200 -\n",
            "127.0.0.1 - - [12/May/2023 02:37:48] \"GET /static/images/app-display.JPG HTTP/1.1\" 200 -\n",
            "127.0.0.1 - - [12/May/2023 02:37:48] \"GET /static/images/maulidya.jpeg HTTP/1.1\" 200 -\n",
            "127.0.0.1 - - [12/May/2023 02:37:48] \"GET /static/js/client_side.js HTTP/1.1\" 200 -\n",
            "127.0.0.1 - - [12/May/2023 02:37:48] \"GET /static/images/orin.jpeg HTTP/1.1\" 200 -\n",
            "127.0.0.1 - - [12/May/2023 02:37:48] \"GET /static/images/oka.jpeg HTTP/1.1\" 200 -\n",
            "127.0.0.1 - - [12/May/2023 02:37:48] \"GET /static/images/angga.jpeg HTTP/1.1\" 200 -\n",
            "127.0.0.1 - - [12/May/2023 02:37:48] \"\u001b[33mGET /fonts/glyphicons-halflings-regular.woff HTTP/1.1\u001b[0m\" 404 -\n",
            "127.0.0.1 - - [12/May/2023 02:37:48] \"\u001b[33mGET /fonts/glyphicons-halflings-regular.ttf HTTP/1.1\u001b[0m\" 404 -\n",
            "127.0.0.1 - - [12/May/2023 02:37:49] \"GET /static/fonts/glyphicons-halflings-regular.woff2 HTTP/1.1\" 200 -\n",
            "127.0.0.1 - - [12/May/2023 02:37:49] \"GET /static/favicon.ico HTTP/1.1\" 200 -\n"
          ]
        }
      ]
    }
  ]
}