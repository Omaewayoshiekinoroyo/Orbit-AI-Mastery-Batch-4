{
  "cells": [
    {
      "cell_type": "markdown",
      "metadata": {
        "id": "Q8eX4eLapC9O"
      },
      "source": [
        "# Import Library dan Load Data"
      ]
    },
    {
      "cell_type": "code",
      "execution_count": null,
      "metadata": {
        "id": "pJ0yU7Gloq9S"
      },
      "outputs": [
        {
          "ename": "",
          "evalue": "",
          "output_type": "error",
          "traceback": [
            "\u001b[1;31mRunning cells with 'd:\\Anaconda\\python.exe' requires the ipykernel package.\n",
            "\u001b[1;31mRun the following command to install 'ipykernel' into the Python environment. \n",
            "\u001b[1;31mCommand: 'conda install -p d:\\Anaconda ipykernel --update-deps --force-reinstall'"
          ]
        }
      ],
      "source": [
        "import numpy as np\n",
        "import pandas as pd\n",
        "import matplotlib.pyplot as plt\n",
        "plt.rcParams['figure.figsize'] = 15, 6 \n",
        "import seaborn as sns\n",
        "from statsmodels.tsa.stattools import adfuller\n",
        "from statsmodels.tsa.seasonal import seasonal_decompose\n",
        "from statsmodels.graphics.tsaplots import plot_acf\n",
        "from statsmodels.graphics.tsaplots import plot_pacf\n",
        "from statsmodels.tsa.arima_model import ARIMA\n",
        "import warnings\n",
        "from sklearn.metrics import mean_squared_error\n",
        "from math import sqrt"
      ]
    },
    {
      "cell_type": "code",
      "execution_count": null,
      "metadata": {
        "id": "67ytM_TioTq2"
      },
      "outputs": [
        {
          "ename": "",
          "evalue": "",
          "output_type": "error",
          "traceback": [
            "\u001b[1;31mRunning cells with 'd:\\Anaconda\\python.exe' requires the ipykernel package.\n",
            "\u001b[1;31mRun the following command to install 'ipykernel' into the Python environment. \n",
            "\u001b[1;31mCommand: 'conda install -p d:\\Anaconda ipykernel --update-deps --force-reinstall'"
          ]
        }
      ],
      "source": [
        "data = pd.read_csv(\"HCLTECH.csv\")"
      ]
    },
    {
      "cell_type": "code",
      "execution_count": null,
      "metadata": {
        "colab": {
          "base_uri": "https://localhost:8080/",
          "height": 424
        },
        "id": "mqfUnlHxoXJD",
        "outputId": "f11b2b7e-7c09-4fdf-919a-8bdee74b13d8"
      },
      "outputs": [
        {
          "ename": "",
          "evalue": "",
          "output_type": "error",
          "traceback": [
            "\u001b[1;31mRunning cells with 'd:\\Anaconda\\python.exe' requires the ipykernel package.\n",
            "\u001b[1;31mRun the following command to install 'ipykernel' into the Python environment. \n",
            "\u001b[1;31mCommand: 'conda install -p d:\\Anaconda ipykernel --update-deps --force-reinstall'"
          ]
        }
      ],
      "source": [
        "data"
      ]
    },
    {
      "cell_type": "markdown",
      "metadata": {
        "id": "53XUTNsRu9Cx"
      },
      "source": [
        "# Eksplorasi Data"
      ]
    },
    {
      "cell_type": "code",
      "execution_count": null,
      "metadata": {
        "colab": {
          "base_uri": "https://localhost:8080/"
        },
        "id": "w95OBF1pUxAB",
        "outputId": "6ccf44f4-4f35-4f54-a362-d1cffedfbf35"
      },
      "outputs": [
        {
          "ename": "",
          "evalue": "",
          "output_type": "error",
          "traceback": [
            "\u001b[1;31mRunning cells with 'd:\\Anaconda\\python.exe' requires the ipykernel package.\n",
            "\u001b[1;31mRun the following command to install 'ipykernel' into the Python environment. \n",
            "\u001b[1;31mCommand: 'conda install -p d:\\Anaconda ipykernel --update-deps --force-reinstall'"
          ]
        }
      ],
      "source": [
        "type(data)"
      ]
    },
    {
      "cell_type": "code",
      "execution_count": null,
      "metadata": {
        "colab": {
          "base_uri": "https://localhost:8080/"
        },
        "id": "qFpmVxZmozzI",
        "outputId": "c6111996-d6eb-432d-c05b-15e3f4ce562d"
      },
      "outputs": [
        {
          "ename": "",
          "evalue": "",
          "output_type": "error",
          "traceback": [
            "\u001b[1;31mRunning cells with 'd:\\Anaconda\\python.exe' requires the ipykernel package.\n",
            "\u001b[1;31mRun the following command to install 'ipykernel' into the Python environment. \n",
            "\u001b[1;31mCommand: 'conda install -p d:\\Anaconda ipykernel --update-deps --force-reinstall'"
          ]
        }
      ],
      "source": [
        "data.isnull().sum()/len(data)"
      ]
    },
    {
      "cell_type": "code",
      "execution_count": null,
      "metadata": {
        "id": "lTrJ3p6AUYYa"
      },
      "outputs": [
        {
          "ename": "",
          "evalue": "",
          "output_type": "error",
          "traceback": [
            "\u001b[1;31mRunning cells with 'd:\\Anaconda\\python.exe' requires the ipykernel package.\n",
            "\u001b[1;31mRun the following command to install 'ipykernel' into the Python environment. \n",
            "\u001b[1;31mCommand: 'conda install -p d:\\Anaconda ipykernel --update-deps --force-reinstall'"
          ]
        }
      ],
      "source": [
        "data = data.drop(['Open','Low','Close','Adj Close','Volume'],axis='columns')"
      ]
    },
    {
      "cell_type": "code",
      "execution_count": null,
      "metadata": {
        "colab": {
          "base_uri": "https://localhost:8080/"
        },
        "id": "tj2HSxVFYiFR",
        "outputId": "bff13c99-4c2d-4846-dca1-1505a33d65d6"
      },
      "outputs": [
        {
          "ename": "",
          "evalue": "",
          "output_type": "error",
          "traceback": [
            "\u001b[1;31mRunning cells with 'd:\\Anaconda\\python.exe' requires the ipykernel package.\n",
            "\u001b[1;31mRun the following command to install 'ipykernel' into the Python environment. \n",
            "\u001b[1;31mCommand: 'conda install -p d:\\Anaconda ipykernel --update-deps --force-reinstall'"
          ]
        }
      ],
      "source": [
        "print(data.dtypes)"
      ]
    },
    {
      "cell_type": "code",
      "execution_count": null,
      "metadata": {
        "colab": {
          "base_uri": "https://localhost:8080/",
          "height": 424
        },
        "id": "nFN0DDX7VODz",
        "outputId": "7c033290-04bd-40eb-e08a-0ee5fa8c8bc6"
      },
      "outputs": [
        {
          "ename": "",
          "evalue": "",
          "output_type": "error",
          "traceback": [
            "\u001b[1;31mRunning cells with 'd:\\Anaconda\\python.exe' requires the ipykernel package.\n",
            "\u001b[1;31mRun the following command to install 'ipykernel' into the Python environment. \n",
            "\u001b[1;31mCommand: 'conda install -p d:\\Anaconda ipykernel --update-deps --force-reinstall'"
          ]
        }
      ],
      "source": [
        "data"
      ]
    },
    {
      "cell_type": "code",
      "execution_count": null,
      "metadata": {
        "colab": {
          "base_uri": "https://localhost:8080/"
        },
        "id": "HIHDFhphVHh3",
        "outputId": "bb9521de-92b7-4d63-ad75-ff3dfb23d8bd"
      },
      "outputs": [
        {
          "ename": "",
          "evalue": "",
          "output_type": "error",
          "traceback": [
            "\u001b[1;31mRunning cells with 'd:\\Anaconda\\python.exe' requires the ipykernel package.\n",
            "\u001b[1;31mRun the following command to install 'ipykernel' into the Python environment. \n",
            "\u001b[1;31mCommand: 'conda install -p d:\\Anaconda ipykernel --update-deps --force-reinstall'"
          ]
        }
      ],
      "source": [
        "#Mengubah tanggal menjadi index\n",
        "con = data['Date']\n",
        "data['Date']=pd.to_datetime(data['Date'])\n",
        "data.set_index('Date', inplace=True)\n",
        "#check datatype of index\n",
        "data.index"
      ]
    },
    {
      "cell_type": "code",
      "execution_count": null,
      "metadata": {
        "colab": {
          "base_uri": "https://localhost:8080/",
          "height": 455
        },
        "id": "5IIrRc1TXbkw",
        "outputId": "06960ea9-5453-48d7-fb71-a168cdc97754"
      },
      "outputs": [
        {
          "ename": "",
          "evalue": "",
          "output_type": "error",
          "traceback": [
            "\u001b[1;31mRunning cells with 'd:\\Anaconda\\python.exe' requires the ipykernel package.\n",
            "\u001b[1;31mRun the following command to install 'ipykernel' into the Python environment. \n",
            "\u001b[1;31mCommand: 'conda install -p d:\\Anaconda ipykernel --update-deps --force-reinstall'"
          ]
        }
      ],
      "source": [
        "data"
      ]
    },
    {
      "cell_type": "code",
      "execution_count": null,
      "metadata": {
        "colab": {
          "base_uri": "https://localhost:8080/"
        },
        "id": "MMiCKautXp29",
        "outputId": "62736bb3-ff3a-41e5-dceb-46086b29c4e4"
      },
      "outputs": [
        {
          "ename": "",
          "evalue": "",
          "output_type": "error",
          "traceback": [
            "\u001b[1;31mRunning cells with 'd:\\Anaconda\\python.exe' requires the ipykernel package.\n",
            "\u001b[1;31mRun the following command to install 'ipykernel' into the Python environment. \n",
            "\u001b[1;31mCommand: 'conda install -p d:\\Anaconda ipykernel --update-deps --force-reinstall'"
          ]
        }
      ],
      "source": [
        "#Menginisialkan variabel High sebagai data time series\n",
        "ts = data['High']\n",
        "ts.head(10)"
      ]
    },
    {
      "cell_type": "code",
      "execution_count": null,
      "metadata": {
        "colab": {
          "base_uri": "https://localhost:8080/",
          "height": 638
        },
        "id": "wCjsKf-Ip3qS",
        "outputId": "0a3838dd-5bf4-4c22-d2c2-4aa11a34b18a"
      },
      "outputs": [
        {
          "ename": "",
          "evalue": "",
          "output_type": "error",
          "traceback": [
            "\u001b[1;31mRunning cells with 'd:\\Anaconda\\python.exe' requires the ipykernel package.\n",
            "\u001b[1;31mRun the following command to install 'ipykernel' into the Python environment. \n",
            "\u001b[1;31mCommand: 'conda install -p d:\\Anaconda ipykernel --update-deps --force-reinstall'"
          ]
        }
      ],
      "source": [
        "#Visualisasi dataset\n",
        "plt.figure(figsize=(20,10))\n",
        "sns.set_style('darkgrid')\n",
        "plt.xlabel('Date')\n",
        "plt.ylabel('High Price')\n",
        "plt.title('HCL Stock Market High Price')\n",
        "plt.plot(data['High'])"
      ]
    },
    {
      "cell_type": "markdown",
      "metadata": {
        "id": "kAmRXZ_Ix--p"
      },
      "source": [
        "## Uji Stasioneritas Data"
      ]
    },
    {
      "cell_type": "code",
      "execution_count": null,
      "metadata": {
        "id": "GCXvTgNWqde9"
      },
      "outputs": [
        {
          "ename": "",
          "evalue": "",
          "output_type": "error",
          "traceback": [
            "\u001b[1;31mRunning cells with 'd:\\Anaconda\\python.exe' requires the ipykernel package.\n",
            "\u001b[1;31mRun the following command to install 'ipykernel' into the Python environment. \n",
            "\u001b[1;31mCommand: 'conda install -p d:\\Anaconda ipykernel --update-deps --force-reinstall'"
          ]
        }
      ],
      "source": [
        "#Deklarasi fungsi untuk mengecek stasioneritas data\n",
        "def test_stationarity(timeseries):\n",
        "    \n",
        "    #Determing rolling statistics\n",
        "    rolmean = timeseries.rolling(window=12).mean()\n",
        "    rolstd = timeseries.rolling(window=12).std()\n",
        "\n",
        "    #Plot rolling statistics:\n",
        "    orig = plt.plot(timeseries, color='blue',label='Original')\n",
        "    mean = plt.plot(rolmean, color='red', label='Rolling Mean')\n",
        "    std = plt.plot(rolstd, color='black', label = 'Rolling Std')\n",
        "    plt.legend(loc='best')\n",
        "    plt.title('Rolling Mean & Standard Deviation')\n",
        "    plt.show()\n",
        "    \n",
        "\n",
        "    #Perform Dickey-Fuller test:\n",
        "    print('Results of Dickey-Fuller Test:')\n",
        "    dftest = adfuller(timeseries, autolag='AIC')\n",
        "    dfoutput = pd.Series(dftest[0:4], index=['Test Statistic','p-value','#Lags Used','Number of Observations Used'])\n",
        "    for key,value in dftest[4].items():\n",
        "        dfoutput['Critical Value (%s)'%key] = value\n",
        "    print(dfoutput)"
      ]
    },
    {
      "cell_type": "markdown",
      "metadata": {
        "id": "kcmD_G17yDqa"
      },
      "source": [
        "Uji Hipotesis:\n",
        "\n",
        "H0 : Data tidak stasioner\n",
        "\n",
        "Ha : Data stasioner\n",
        "\n",
        "Tolak H0 apabila diperoleh p-value < alpha (0,05)"
      ]
    },
    {
      "cell_type": "code",
      "execution_count": null,
      "metadata": {
        "colab": {
          "base_uri": "https://localhost:8080/",
          "height": 546
        },
        "id": "w9kCUAtPqzMK",
        "outputId": "57f1b7c7-1da4-4098-f99f-4b24e851e6e1"
      },
      "outputs": [
        {
          "ename": "",
          "evalue": "",
          "output_type": "error",
          "traceback": [
            "\u001b[1;31mRunning cells with 'd:\\Anaconda\\python.exe' requires the ipykernel package.\n",
            "\u001b[1;31mRun the following command to install 'ipykernel' into the Python environment. \n",
            "\u001b[1;31mCommand: 'conda install -p d:\\Anaconda ipykernel --update-deps --force-reinstall'"
          ]
        }
      ],
      "source": [
        "#Melakukan uji stasioneritas untuk dataset\n",
        "test_stationarity(ts)"
      ]
    },
    {
      "cell_type": "markdown",
      "metadata": {
        "id": "fQVBDOWRvddp"
      },
      "source": [
        "Diperoleh nilai p-value > 0,05, maka H0 tidak ditolak.\n",
        "\n",
        "Jadi, data memiliki keadaan yang tidak stasioner."
      ]
    },
    {
      "cell_type": "markdown",
      "metadata": {
        "id": "ZotPPqdd0noR"
      },
      "source": [
        "Karena data belum stasioner, sehingga perlu dilakukan proses stasionerisasi data, yakni dengan proses differencing untuk memperoleh data yang stasioner."
      ]
    },
    {
      "cell_type": "code",
      "execution_count": null,
      "metadata": {
        "colab": {
          "base_uri": "https://localhost:8080/",
          "height": 391
        },
        "id": "JYIfKcQveOnS",
        "outputId": "c4b418d5-ae76-494e-b544-19d5869f5b37"
      },
      "outputs": [
        {
          "ename": "",
          "evalue": "",
          "output_type": "error",
          "traceback": [
            "\u001b[1;31mRunning cells with 'd:\\Anaconda\\python.exe' requires the ipykernel package.\n",
            "\u001b[1;31mRun the following command to install 'ipykernel' into the Python environment. \n",
            "\u001b[1;31mCommand: 'conda install -p d:\\Anaconda ipykernel --update-deps --force-reinstall'"
          ]
        }
      ],
      "source": [
        "ts_diff_1 = ts - ts.shift()\n",
        "ts_diff_1 = ts_diff_1.dropna()\n",
        "plt.plot(ts_diff_1)"
      ]
    },
    {
      "cell_type": "code",
      "execution_count": null,
      "metadata": {
        "colab": {
          "base_uri": "https://localhost:8080/",
          "height": 546
        },
        "id": "7l5xH1Gvjt7G",
        "outputId": "103c23ad-2b15-4591-c242-4cdc2d71728c"
      },
      "outputs": [
        {
          "ename": "",
          "evalue": "",
          "output_type": "error",
          "traceback": [
            "\u001b[1;31mRunning cells with 'd:\\Anaconda\\python.exe' requires the ipykernel package.\n",
            "\u001b[1;31mRun the following command to install 'ipykernel' into the Python environment. \n",
            "\u001b[1;31mCommand: 'conda install -p d:\\Anaconda ipykernel --update-deps --force-reinstall'"
          ]
        }
      ],
      "source": [
        "test_stationarity(ts_diff_1)"
      ]
    },
    {
      "cell_type": "markdown",
      "metadata": {
        "id": "gR4-pbgx04EL"
      },
      "source": [
        "Setelah dilakukan proses differencing dan diuji stasioneritas data (setelah differencing), diperoleh data setelah differencing 1x telah membentuk data yang stasioner."
      ]
    },
    {
      "cell_type": "code",
      "execution_count": null,
      "metadata": {
        "colab": {
          "base_uri": "https://localhost:8080/",
          "height": 390
        },
        "id": "4wur-eQdjvW9",
        "outputId": "5822bab6-23bb-45c8-c49f-a53765143de6"
      },
      "outputs": [
        {
          "ename": "",
          "evalue": "",
          "output_type": "error",
          "traceback": [
            "\u001b[1;31mRunning cells with 'd:\\Anaconda\\python.exe' requires the ipykernel package.\n",
            "\u001b[1;31mRun the following command to install 'ipykernel' into the Python environment. \n",
            "\u001b[1;31mCommand: 'conda install -p d:\\Anaconda ipykernel --update-deps --force-reinstall'"
          ]
        }
      ],
      "source": [
        "plt.figure()\n",
        "plt.subplot(211)\n",
        "plot_acf(ts_diff_1, ax=plt.gca(), lags=100)\n",
        "plt.subplot(212)\n",
        "plot_pacf(ts_diff_1, ax=plt.gca(), lags=100)\n",
        "plt.show()"
      ]
    },
    {
      "cell_type": "markdown",
      "metadata": {
        "id": "L7W-FNMc1F3c"
      },
      "source": [
        "Plot ACF dan plot PACF dibentuk untuk mengetahui orde dari AR dan MA, sehingga bisa diketahui model yang sesuai untuk data."
      ]
    },
    {
      "cell_type": "code",
      "execution_count": null,
      "metadata": {
        "id": "yEADRgzEj-ln"
      },
      "outputs": [
        {
          "ename": "",
          "evalue": "",
          "output_type": "error",
          "traceback": [
            "\u001b[1;31mRunning cells with 'd:\\Anaconda\\python.exe' requires the ipykernel package.\n",
            "\u001b[1;31mRun the following command to install 'ipykernel' into the Python environment. \n",
            "\u001b[1;31mCommand: 'conda install -p d:\\Anaconda ipykernel --update-deps --force-reinstall'"
          ]
        }
      ],
      "source": [
        "def evaluate_arima_model(X, arima_order):\n",
        "\t# prepare training dataset\n",
        "\tX = X.astype('float32')\n",
        "\ttrain_size = int(len(X) * 0.7)               #data trainingnya 70%\n",
        "\ttrain, test = X[0:train_size], X[train_size:]\n",
        "\thistory = [x for x in train]\n",
        "\t# make predictions\n",
        "\tpredictions = list()\n",
        "\tfor t in range(len(test)):\n",
        "\t\tmodel = ARIMA(history, order=arima_order)\n",
        "\t\tmodel_fit = model.fit()\n",
        "\t\tyhat = model_fit.forecast()[0]\n",
        "\t\tpredictions.append(yhat)\n",
        "\t\thistory.append(test[t])\n",
        "\t# calculate out of sample error\n",
        "\trmse = sqrt(mean_squared_error(test, predictions))\n",
        "\treturn rmse\n",
        "\n",
        "# evaluate combinations of p, d and q values for an ARIMA model\n",
        "# evaluate combinations of p, d and q values for an ARIMA model\n",
        "def evaluate_models(dataset, p_values, d_values, q_values):\n",
        "\tdataset = dataset.astype('float32')\n",
        "\tbest_score, best_cfg = float(\"inf\"), None\n",
        "\tfor p in p_values:\n",
        "\t\tfor d in d_values:\n",
        "\t\t\tfor q in q_values:\n",
        "\t\t\t\torder = (p,d,q)\n",
        "\t\t\t\ttry:\n",
        "\t\t\t\t\trmse = evaluate_arima_model(dataset, order)\n",
        "\t\t\t\t\tif rmse < best_score:\n",
        "\t\t\t\t\t\tbest_score, best_cfg = rmse, order\n",
        "\t\t\t\t\tprint('ARIMA%s RMSE=%.3f' % (order,rmse))\n",
        "\t\t\t\texcept:\n",
        "\t\t\t\t\tcontinue\n",
        "\tprint('Best ARIMA%s RMSE=%.3f' % (best_cfg, best_score))"
      ]
    },
    {
      "cell_type": "code",
      "execution_count": null,
      "metadata": {
        "colab": {
          "base_uri": "https://localhost:8080/"
        },
        "id": "_d8PcaVDkRPE",
        "outputId": "4dcc1d58-8028-4f63-fdfa-326073d93452"
      },
      "outputs": [
        {
          "ename": "",
          "evalue": "",
          "output_type": "error",
          "traceback": [
            "\u001b[1;31mRunning cells with 'd:\\Anaconda\\python.exe' requires the ipykernel package.\n",
            "\u001b[1;31mRun the following command to install 'ipykernel' into the Python environment. \n",
            "\u001b[1;31mCommand: 'conda install -p d:\\Anaconda ipykernel --update-deps --force-reinstall'"
          ]
        }
      ],
      "source": [
        "p_values = range(0, 2)\n",
        "d_values = range(0, 2)\n",
        "q_values = range(0, 2)\n",
        "warnings.filterwarnings(\"ignore\")\n",
        "evaluate_models(ts.values, p_values, d_values, q_values)"
      ]
    },
    {
      "cell_type": "markdown",
      "metadata": {
        "id": "v8xIcBMC1VGW"
      },
      "source": [
        "Setelah dilakukan percobaan dengan model ARIMA(p,d,q) dengan:\n",
        "\n",
        "- orde p = 0 dan 1\n",
        "- orde d = 0 dan 1\n",
        "- orde q = 0 dan 1\n",
        "\n",
        "Diperoleh model yang menghasilkan RMSE terkecil adalah model ARIMA (1,1,1).\n",
        "\n",
        "Hal ini sesuai dengan plot ACF dan PACF yang dies down setelah lag ke-1 dan dataset telah mengalami 1x proses differencing."
      ]
    },
    {
      "cell_type": "code",
      "execution_count": null,
      "metadata": {
        "colab": {
          "base_uri": "https://localhost:8080/",
          "height": 391
        },
        "id": "KEsjJtmhkbtr",
        "outputId": "36fa83a5-e03c-45d4-8c44-5c3379030f9a"
      },
      "outputs": [
        {
          "ename": "",
          "evalue": "",
          "output_type": "error",
          "traceback": [
            "\u001b[1;31mRunning cells with 'd:\\Anaconda\\python.exe' requires the ipykernel package.\n",
            "\u001b[1;31mRun the following command to install 'ipykernel' into the Python environment. \n",
            "\u001b[1;31mCommand: 'conda install -p d:\\Anaconda ipykernel --update-deps --force-reinstall'"
          ]
        }
      ],
      "source": [
        "#Visualisasi perbandingan antara dataset setelah differencing dengan data hasil prediksi ARIMA(1,1,1)\n",
        "model_ARIMA = ARIMA(ts, order=(1,1,1))\n",
        "results_ARIMA = model_ARIMA.fit(disp=-1)\n",
        "predictions_ARIMA = pd.Series(results_ARIMA.fittedvalues,copy=True)\n",
        "plt.plot(ts_diff_1)             \n",
        "plt.plot(predictions_ARIMA, color='red')  "
      ]
    },
    {
      "cell_type": "code",
      "execution_count": null,
      "metadata": {
        "colab": {
          "base_uri": "https://localhost:8080/",
          "height": 339
        },
        "id": "oobHtw01xoI-",
        "outputId": "dfc8296d-4ef4-4446-f7e4-5e20fbd87535"
      },
      "outputs": [
        {
          "ename": "",
          "evalue": "",
          "output_type": "error",
          "traceback": [
            "\u001b[1;31mRunning cells with 'd:\\Anaconda\\python.exe' requires the ipykernel package.\n",
            "\u001b[1;31mRun the following command to install 'ipykernel' into the Python environment. \n",
            "\u001b[1;31mCommand: 'conda install -p d:\\Anaconda ipykernel --update-deps --force-reinstall'"
          ]
        }
      ],
      "source": [
        "#Informasi yang diperoleh dari pemodelan ARIMA(1,1,1) pada dataset\n",
        "results_ARIMA.summary()"
      ]
    },
    {
      "cell_type": "markdown",
      "metadata": {
        "id": "Q8MypgHZuqLb"
      },
      "source": [
        "# Prediksi Data"
      ]
    },
    {
      "cell_type": "code",
      "execution_count": null,
      "metadata": {
        "colab": {
          "base_uri": "https://localhost:8080/"
        },
        "id": "7sOQmxOwEFQA",
        "outputId": "9f4bc826-05e9-45cf-a2e9-48660e9452cd"
      },
      "outputs": [
        {
          "ename": "",
          "evalue": "",
          "output_type": "error",
          "traceback": [
            "\u001b[1;31mRunning cells with 'd:\\Anaconda\\python.exe' requires the ipykernel package.\n",
            "\u001b[1;31mRun the following command to install 'ipykernel' into the Python environment. \n",
            "\u001b[1;31mCommand: 'conda install -p d:\\Anaconda ipykernel --update-deps --force-reinstall'"
          ]
        }
      ],
      "source": [
        "#Prediksi data dengan model ARIMA(1,1,1) untuk 4 hari ke depan\n",
        "predict_dif = results_ARIMA.predict(start=1327,end=1330)\n",
        "predictions_dif_cum_sum = predict_dif.cumsum()                   #prediksi differencingnya\n",
        "pred_ts = [ts[-1]]\n",
        "for i, j in enumerate(predictions_dif_cum_sum):                  #prediksi data aslinya\n",
        "  a = pred_ts[i] + j\n",
        "  pred_ts.append(a)\n",
        "predict = pd.Series(pred_ts[1:], index=predict_dif.index)\n",
        "print(predict)"
      ]
    },
    {
      "cell_type": "markdown",
      "metadata": {
        "id": "B5knOylf2c5d"
      },
      "source": [
        "Diperoleh hasil prediksi untuk nilai harga tertinggi saham HCLTECH pada periode tanggal :\n",
        "- 05 September 2022 = 939,81..\n",
        "- 06 September 2022 = 940,73..\n",
        "- 07 September 2022 = 944,22..\n",
        "- 08 September 2022 = 946,04.."
      ]
    }
  ],
  "metadata": {
    "colab": {
      "provenance": []
    },
    "kernelspec": {
      "display_name": "Python 3",
      "name": "python3"
    },
    "language_info": {
      "name": "python",
      "version": "3.9.13"
    }
  },
  "nbformat": 4,
  "nbformat_minor": 0
}
